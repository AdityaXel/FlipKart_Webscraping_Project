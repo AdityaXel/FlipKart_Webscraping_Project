{
 "cells": [
  {
   "attachments": {},
   "cell_type": "markdown",
   "id": "77f22593-0444-4c4d-8aaa-613b4f4f77d8",
   "metadata": {},
   "source": [
    "### ***Importing the Libraries*** "
   ]
  },
  {
   "cell_type": "code",
   "execution_count": 63,
   "id": "1ac65d98-d7d9-44fa-be25-71cf6402ac7a",
   "metadata": {},
   "outputs": [],
   "source": [
    "import pandas as pd \n",
    "import requests \n",
    "from bs4 import BeautifulSoup "
   ]
  },
  {
   "cell_type": "code",
   "execution_count": 64,
   "id": "4c322a71-c61e-4c3b-8f10-fc4fea404fc6",
   "metadata": {},
   "outputs": [
    {
     "name": "stdout",
     "output_type": "stream",
     "text": [
      "Data successfully scraped from the site.\n"
     ]
    }
   ],
   "source": [
    "## HTTP Request sent to the site for scraping the data. \n",
    "\n",
    "url = \"https://www.flipkart.com/search?q=mobile+phone+under+15000&otracker=search&otracker1=search&marketplace=FLIPKART&as-show=on&as=off&page=1\"\n",
    "\n",
    "try:\n",
    "    r = requests.get(url, timeout=10)\n",
    "    r.raise_for_status()  # Raise an HTTPError for bad responses (4xx or 5xx)\n",
    "\n",
    "    # Check if content is retrieved\n",
    "    if r.text:\n",
    "        print(\"Data successfully scraped from the site.\")\n",
    "    else:\n",
    "        print(\"Request succeeded, but no data found.\")\n",
    "        \n",
    "except requests.exceptions.HTTPError as http_err:\n",
    "    print(f\"HTTP error occurred: {http_err}\")  # e.g. 404, 500, etc.\n",
    "\n",
    "except requests.exceptions.ConnectionError:\n",
    "    print(\"Error connecting to the website.\")\n",
    "\n",
    "except requests.exceptions.Timeout:\n",
    "    print(\"The request timed out.\")\n",
    "\n",
    "except requests.exceptions.RequestException as err:\n",
    "    print(f\"An error occurred: {err}\")\n"
   ]
  },
  {
   "cell_type": "markdown",
   "id": "2d509785-9b9c-41aa-9ba8-4d91cbb25369",
   "metadata": {},
   "source": [
    "### ***Scraping Data from required pages of flipkart***"
   ]
  },
  {
   "cell_type": "code",
   "execution_count": 84,
   "id": "69542c9e-f7a9-45bf-a71a-1c8d7bb8539e",
   "metadata": {},
   "outputs": [
    {
     "name": "stdout",
     "output_type": "stream",
     "text": [
      "https://www.flipkart.com/search?q=mobile+phone+under+15000&otracker=search&otracker1=search&marketplace=FLIPKART&as-show=on&as=off&page=1\n",
      "https://www.flipkart.com/search?q=mobile+phone+under+15000&otracker=search&otracker1=search&marketplace=FLIPKART&as-show=on&as=off&page=2\n",
      "https://www.flipkart.com/search?q=mobile+phone+under+15000&otracker=search&otracker1=search&marketplace=FLIPKART&as-show=on&as=off&page=3\n",
      "https://www.flipkart.com/search?q=mobile+phone+under+15000&otracker=search&otracker1=search&marketplace=FLIPKART&as-show=on&as=off&page=4\n",
      "https://www.flipkart.com/search?q=mobile+phone+under+15000&otracker=search&otracker1=search&marketplace=FLIPKART&as-show=on&as=off&page=5\n",
      "https://www.flipkart.com/search?q=mobile+phone+under+15000&otracker=search&otracker1=search&marketplace=FLIPKART&as-show=on&as=off&page=6\n",
      "https://www.flipkart.com/search?q=mobile+phone+under+15000&otracker=search&otracker1=search&marketplace=FLIPKART&as-show=on&as=off&page=7\n",
      "https://www.flipkart.com/search?q=mobile+phone+under+15000&otracker=search&otracker1=search&marketplace=FLIPKART&as-show=on&as=off&page=8\n"
     ]
    }
   ],
   "source": [
    "for i in range(2,10):\n",
    "    url = \"https://www.flipkart.com/search?q=mobile+phone+under+15000&otracker=search&otracker1=search&marketplace=FLIPKART&as-show=on&as=off&page=\"+str(i)\n",
    "    r = requests.get(url) \n",
    "    soup = BeautifulSoup(r.text,\"lxml\")\n",
    "    np = soup.find(\"a\",class_ = \"_9QVEpD\").get(\"href\")\n",
    "    cnp = \"https://www.flipkart.com\" + np \n",
    "    print(cnp) "
   ]
  },
  {
   "cell_type": "markdown",
   "id": "487a3584-d9ea-4037-b70c-501961d969e4",
   "metadata": {},
   "source": [
    "### ***Scraping Data from flipkart***"
   ]
  },
  {
   "cell_type": "code",
   "execution_count": 98,
   "id": "f4930a92-c674-434a-908a-4b63697159ac",
   "metadata": {},
   "outputs": [
    {
     "name": "stdout",
     "output_type": "stream",
     "text": [
      "236\n",
      "240\n",
      "240\n",
      "239\n"
     ]
    }
   ],
   "source": [
    "Product_name = []\n",
    "Prices = []\n",
    "Description = []\n",
    "Reviews = []\n",
    "for i in range(2,12):\n",
    "    url = \"https://www.flipkart.com/search?q=mobile+phone+under+15000&otracker=search&otracker1=search&marketplace=FLIPKART&as-show=on&as=off&page=\"+str(i)\n",
    "    r = requests.get(url) \n",
    "    soup = BeautifulSoup(r.text,\"lxml\")\n",
    "    box = soup.find(\"div\", class_ = \"DOjaWF gdgoEp\")\n",
    "\n",
    "## Scrap Product_name\n",
    "    names = box.find_all(\"div\" , class_ =\"KzDlHZ\")\n",
    "    for i in names :\n",
    "        name = i.text\n",
    "        Product_name.append(name) \n",
    "        \n",
    "    ## Scrap Prices of Products\n",
    "    prices = box.find_all(\"div\", class_ = \"Nx9bqj _4b5DiR\")\n",
    "    for i in prices:\n",
    "        price = i.text \n",
    "        Prices.append(price) \n",
    "        \n",
    "    ## Scrap Description of products\n",
    "    description = box.find_all(\"div\", class_ = \"_6NESgJ\")\n",
    "    for i in description:\n",
    "        descript = i.text\n",
    "        Description.append(descript)\n",
    "        \n",
    "    ## Scrap Reviews of Products\n",
    "    reviews = box.find_all(\"div\", class_ = \"XQDdHH\") \n",
    "    for i in reviews:\n",
    "        review = i.text\n",
    "        Reviews.append(review)\n",
    "\n",
    "#Checking lenght of all scraped data  same or not , necessarily have same length so that we can save in proper dataframe.\n",
    "print(len(Reviews)) \n",
    "print(len(Product_name)) \n",
    "print(len(Description)) \n",
    "print(len(Prices))\n",
    "\n"
   ]
  },
  {
   "cell_type": "code",
   "execution_count": 6,
   "id": "93cf83e1-292c-48ae-8b37-83fa6ca95cf0",
   "metadata": {},
   "outputs": [
    {
     "data": {
      "text/plain": [
       "'while True:    # If the pages have different links ,doest interrelated with previous page , then we use this code .\\n    np = soup.find(\"a\",class_ = \"_9QVEpD\").get(\"href\")\\n    cnp = \"https://www.flipkart.com\" + np \\n    print(cnp) '"
      ]
     },
     "execution_count": 6,
     "metadata": {},
     "output_type": "execute_result"
    }
   ],
   "source": [
    "while True:    # If the pages have different links ,doest interrelated with previous page , then we use this code .\n",
    "    np = soup.find(\"a\",class_ = \"_9QVEpD\").get(\"href\")\n",
    "    cnp = \"https://www.flipkart.com\" + np \n",
    "    print(cnp) "
   ]
  },
  {
   "cell_type": "markdown",
   "id": "9ee40965-7fae-4043-a565-5a909470c53a",
   "metadata": {},
   "source": [
    "### ***Creation of dataframe to save the scraped data***\n"
   ]
  },
  {
   "cell_type": "code",
   "execution_count": 74,
   "id": "9e9e3a71-c34d-42eb-bbfb-37ddd69ba9c7",
   "metadata": {},
   "outputs": [
    {
     "name": "stdout",
     "output_type": "stream",
     "text": [
      "                                   Product_name   Prices  \\\n",
      "0    Samsung Galaxy F06 5G (Bahama Blue, 64 GB)  ₹12,499   \n",
      "1        REDMI 14C 5G (Stardust Purple, 128 GB)  ₹11,499   \n",
      "2          realme P3x 5G (Lunar Silver, 128 GB)  ₹12,999   \n",
      "3           realme P1 5G (Feather Blue, 128 GB)  ₹13,999   \n",
      "4         REDMI 14C 5G (Starlight Blue, 128 GB)  ₹10,499   \n",
      "..                                          ...      ...   \n",
      "259        REDMI 9 Activ (Carbon Black, 128 GB)   ₹9,499   \n",
      "260             POCO M4 Pro 5G (Yellow, 128 GB)  ₹14,999   \n",
      "261  Samsung Galaxy F42 5G (Matte Aqua, 128 GB)  ₹12,999   \n",
      "262              Nokia 3.4 (Dusk Purple, 64 GB)  ₹11,797   \n",
      "263      REDMI Note 8 Pro (Shadow Black, 64 GB)  ₹10,499   \n",
      "\n",
      "                                           Description Reviews  \n",
      "0    4 GB RAM | 64 GB ROM | Expandable Upto 1500 GB...     4.1  \n",
      "1    6 GB RAM | 128 GB ROM | Expandable Upto 1 TB17...     4.2  \n",
      "2    6 GB RAM | 128 GB ROM17.07 cm (6.72 inch) Full...     4.4  \n",
      "3    6 GB RAM | 128 GB ROM | Expandable Upto 2 TB16...     4.4  \n",
      "4    4 GB RAM | 128 GB ROM | Expandable Upto 1 TB17...     4.2  \n",
      "..                                                 ...     ...  \n",
      "259  6 GB RAM | 128 GB ROM | Expandable Upto 512 GB...     4.1  \n",
      "260  8 GB RAM | 128 GB ROM | Expandable Upto 1 TB16...       4  \n",
      "261  6 GB RAM | 128 GB ROM | Expandable Upto 1 TB16...     4.5  \n",
      "262  4 GB RAM | 64 GB ROM | Expandable Upto 512 GB1...     3.9  \n",
      "263  6 GB RAM | 64 GB ROM | Expandable Upto 512 GB1...       4  \n",
      "\n",
      "[264 rows x 4 columns]\n"
     ]
    }
   ],
   "source": [
    "df = pd.DataFrame({\"Product_name\":Product_name, \"Prices\":Prices , \"Description\": Description , \"Reviews\": Reviews})\n",
    "print(df) "
   ]
  },
  {
   "cell_type": "markdown",
   "id": "30ba1c73-2b0b-4633-a85f-cb60f25bc025",
   "metadata": {},
   "source": [
    "### ***Saving Scraped data as CSV file***"
   ]
  },
  {
   "cell_type": "code",
   "execution_count": 82,
   "id": "e5fa0d6d-5018-478c-9d2d-12ceea9ae2bc",
   "metadata": {},
   "outputs": [],
   "source": [
    "df.to_csv(\"Mobile_WebScrap_Data.csv\")"
   ]
  },
  {
   "cell_type": "code",
   "execution_count": null,
   "id": "a7416949-3343-42f6-bd2d-e0dab15d3bc8",
   "metadata": {},
   "outputs": [],
   "source": []
  },
  {
   "cell_type": "code",
   "execution_count": null,
   "id": "ba888ea2-447d-487d-aa62-0eadaed41058",
   "metadata": {},
   "outputs": [],
   "source": []
  }
 ],
 "metadata": {
  "kernelspec": {
   "display_name": "Python 3 (ipykernel)",
   "language": "python",
   "name": "python3"
  },
  "language_info": {
   "codemirror_mode": {
    "name": "ipython",
    "version": 3
   },
   "file_extension": ".py",
   "mimetype": "text/x-python",
   "name": "python",
   "nbconvert_exporter": "python",
   "pygments_lexer": "ipython3",
   "version": "3.11.9"
  }
 },
 "nbformat": 4,
 "nbformat_minor": 5
}
